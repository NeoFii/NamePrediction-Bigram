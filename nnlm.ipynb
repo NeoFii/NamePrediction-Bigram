{
 "cells": [
  {
   "cell_type": "markdown",
   "id": "fce5d858",
   "metadata": {},
   "source": [
    "## 神经概率语言模型 (Neural Probabilistic Language Model)\n",
    "\n",
    "#### 1. 项目简介\n",
    "\n",
    "本项目实现了Bengio等人在2003年提出的经典神经概率语言模型(NPLM)也叫神经网络语言模型。\n",
    "该模型同时学习：\n",
    "1. 每个词的分布式表示（词嵌入）\n",
    "2. 词序列的概率分布函数\n",
    "\n",
    "**主要特点：**\n",
    "- 解决传统one-hot表示的维度灾难问题\n",
    "- 学习词的分布式表示，捕获语义相似性\n",
    "- 通过神经网络建模条件概率P(word|context)\n",
    "\n",
    "**数据集:** 使用包含32,000个名字的文本文件作为语料库"
   ]
  },
  {
   "cell_type": "code",
   "execution_count": null,
   "id": "ac1f7329",
   "metadata": {},
   "outputs": [],
   "source": [
    "import torch\n",
    "import torch.nn as nn\n",
    "import torch.nn.functional as F\n",
    "import matplotlib.pyplot as plt\n",
    "import numpy as np\n",
    "import random\n",
    "\n",
    "import matplotlib.pyplot as plt\n",
    "import matplotlib as mpl\n",
    "\n",
    "# 设置中文字体\n",
    "plt.rcParams['font.sans-serif'] = ['SimHei', 'DejaVu Sans']  # 黑体\n",
    "plt.rcParams['axes.unicode_minus'] = False  # 解决负号显示问题\n",
    "\n",
    "\n",
    "# 设置随机种子确保结果可复现\n",
    "torch.manual_seed(1337)\n",
    "random.seed(1337)"
   ]
  },
  {
   "cell_type": "code",
   "execution_count": 140,
   "id": "081103fe",
   "metadata": {},
   "outputs": [
    {
     "name": "stdout",
     "output_type": "stream",
     "text": [
      "数据集大小: 32033\n",
      "前10个名字: ['emma', 'olivia', 'ava', 'isabella', 'sophia', 'charlotte', 'mia', 'amelia', 'harper', 'evelyn']\n"
     ]
    }
   ],
   "source": [
    "# 读取数据\n",
    "with open('names.txt', 'r', encoding='utf-8') as f:\n",
    "    words = f.read().splitlines()\n",
    "\n",
    "print(f\"数据集大小: {len(words)}\")\n",
    "print(f\"前10个名字: {words[:10]}\")"
   ]
  },
  {
   "cell_type": "markdown",
   "id": "fe418312",
   "metadata": {},
   "source": [
    "#### 2. 数据预处理\n",
    "\n",
    "构建字符级别的词汇表，并创建字符到索引的映射关系。\n",
    "特殊符号'.'用于表示序列的开始和结束。"
   ]
  },
  {
   "cell_type": "code",
   "execution_count": 141,
   "id": "e6a64f15",
   "metadata": {},
   "outputs": [
    {
     "name": "stdout",
     "output_type": "stream",
     "text": [
      "字符集: .abcdefghijklmnopqrstuvwxyz\n",
      "词汇表大小: 27\n",
      "字符映射示例: {'.': 0, 'a': 1, 'b': 2, 'c': 3, 'd': 4, 'e': 5, 'f': 6, 'g': 7, 'h': 8, 'i': 9}\n"
     ]
    }
   ],
   "source": [
    "# 提取所有唯一字符并排序\n",
    "chars = sorted(list(set(''.join(words))))\n",
    "chars.insert(0, '.')  # 添加特殊标记\n",
    "vocab_size = len(chars)\n",
    "\n",
    "print(f\"字符集: {''.join(chars)}\")\n",
    "print(f\"词汇表大小: {vocab_size}\")\n",
    "\n",
    "# 创建字符与索引的双向映射\n",
    "stoi = {ch: i for i, ch in enumerate(chars)}  # string to index\n",
    "itos = {i: ch for i, ch in enumerate(chars)}  # index to string\n",
    "\n",
    "print(f\"字符映射示例: {dict(list(stoi.items())[:10])}\")"
   ]
  },
  {
   "cell_type": "markdown",
   "id": "9a006306",
   "metadata": {},
   "source": [
    "#### 3. 构建训练数据\n",
    "\n",
    "对于NPLM，我们需要构建上下文-目标词对。\n",
    "使用滑动窗口从每个单词中提取固定长度的上下文，然后按照固定步长进行滑动。\n",
    "\n",
    "**示例：** 对于单词\"emma\"，上下文长度为3时：\n",
    "- 上下文: ['.', '.', '.'] → 目标: 'e'\n",
    "- 上下文: ['.', '.', 'e'] → 目标: 'm'\n",
    "- 上下文: ['.', 'e', 'm'] → 目标: 'm'\n",
    "- 上下文: ['e', 'm', 'm'] → 目标: 'a'\n",
    "- 上下文: ['m', 'm', 'a'] → 目标: '.'"
   ]
  },
  {
   "cell_type": "code",
   "execution_count": 142,
   "id": "6018fec5",
   "metadata": {},
   "outputs": [
    {
     "name": "stdout",
     "output_type": "stream",
     "text": [
      "训练样本数量: 228146\n",
      "输入张量形状: torch.Size([228146, 3])\n",
      "目标张量形状: torch.Size([228146])\n"
     ]
    }
   ],
   "source": [
    "def build_dataset(words, block_size, stoi):\n",
    "    \"\"\"构建训练数据集\"\"\"\n",
    "    X, Y = [], []\n",
    "    \n",
    "    for word in words:\n",
    "        context = [0] * block_size  # 用'.'的索引初始化上下文\n",
    "        for ch in word + '.':  # 在单词末尾添加结束标记\n",
    "            ix = stoi[ch]\n",
    "            X.append(context)\n",
    "            Y.append(ix)\n",
    "            context = context[1:] + [ix]  # 滑动窗口更新\n",
    "    \n",
    "    return torch.tensor(X), torch.tensor(Y)\n",
    "\n",
    "# 超参数设置\n",
    "BLOCK_SIZE = 3  # 上下文长度\n",
    "EMBED_DIM = 10  # 嵌入维度\n",
    "HIDDEN_DIM = 200  # 隐藏层大小\n",
    "\n",
    "# 构建完整数据集\n",
    "X, Y = build_dataset(words, BLOCK_SIZE, stoi)\n",
    "\n",
    "print(f\"训练样本数量: {X.shape[0]}\")\n",
    "print(f\"输入张量形状: {X.shape}\")\n",
    "print(f\"目标张量形状: {Y.shape}\")"
   ]
  },
  {
   "cell_type": "code",
   "execution_count": 143,
   "id": "ed44c82d",
   "metadata": {},
   "outputs": [
    {
     "name": "stdout",
     "output_type": "stream",
     "text": [
      "\n",
      "前10个训练样本:\n",
      "上下文: [...] → 目标: e\n",
      "上下文: [..e] → 目标: m\n",
      "上下文: [.em] → 目标: m\n",
      "上下文: [emm] → 目标: a\n",
      "上下文: [mma] → 目标: .\n",
      "上下文: [...] → 目标: o\n",
      "上下文: [..o] → 目标: l\n",
      "上下文: [.ol] → 目标: i\n",
      "上下文: [oli] → 目标: v\n",
      "上下文: [liv] → 目标: i\n"
     ]
    }
   ],
   "source": [
    "# 显示前10个训练样本\n",
    "print(\"\\n前10个训练样本:\")\n",
    "for i in range(10):\n",
    "    context = ''.join(itos[ix] for ix in X[i].tolist())\n",
    "    target = itos[Y[i].item()]\n",
    "    print(f\"上下文: [{context}] → 目标: {target}\")"
   ]
  },
  {
   "cell_type": "markdown",
   "id": "8e4e612d",
   "metadata": {},
   "source": [
    "#### 4. 数据集划分\n",
    "\n",
    "将数据按8:1:1的比例划分为训练集、验证集和测试集，\n",
    "确保模型评估的科学性。"
   ]
  },
  {
   "cell_type": "code",
   "execution_count": 144,
   "id": "4e968b2d",
   "metadata": {},
   "outputs": [
    {
     "name": "stdout",
     "output_type": "stream",
     "text": [
      "训练集: 25626 个单词\n",
      "验证集: 3203 个单词\n",
      "测试集: 3204 个单词\n",
      "\n",
      "训练样本: 182552\n",
      "验证样本: 22737\n",
      "测试样本: 22857\n"
     ]
    }
   ],
   "source": [
    "def split_dataset(words, train_ratio=0.8, val_ratio=0.1):\n",
    "    \"\"\"划分数据集\"\"\"\n",
    "    random.shuffle(words)\n",
    "    n1 = int(train_ratio * len(words))\n",
    "    n2 = int((train_ratio + val_ratio) * len(words))\n",
    "    \n",
    "    return words[:n1], words[n1:n2], words[n2:]\n",
    "\n",
    "# 划分数据\n",
    "train_words, val_words, test_words = split_dataset(words)\n",
    "\n",
    "print(f\"训练集: {len(train_words)} 个单词\")\n",
    "print(f\"验证集: {len(val_words)} 个单词\") \n",
    "print(f\"测试集: {len(test_words)} 个单词\")\n",
    "\n",
    "# 构建各数据集\n",
    "X_train, Y_train = build_dataset(train_words, BLOCK_SIZE, stoi)\n",
    "X_val, Y_val = build_dataset(val_words, BLOCK_SIZE, stoi)\n",
    "X_test, Y_test = build_dataset(test_words, BLOCK_SIZE, stoi)\n",
    "\n",
    "print(f\"\\n训练样本: {X_train.shape[0]}\")\n",
    "print(f\"验证样本: {X_val.shape[0]}\")\n",
    "print(f\"测试样本: {X_test.shape[0]}\")"
   ]
  },
  {
   "cell_type": "markdown",
   "id": "b7c3c857",
   "metadata": {},
   "source": [
    "#### 5. 神经概率语言模型定义\n",
    "\n",
    "NPLM的核心架构包括：\n",
    "1. **嵌入层(Embedding Layer)**: 将离散字符索引映射到连续向量空间\n",
    "2. **隐藏层(Hidden Layer)**: 使用tanh激活函数的全连接层\n",
    "3. **输出层(Output Layer)**: 输出词汇表大小的logits\n",
    "\n",
    "**关键创新**: 嵌入层充当\"查找表\"，避免了one-hot向量的稀疏性问题"
   ]
  },
  {
   "cell_type": "code",
   "execution_count": 145,
   "id": "a1926c94",
   "metadata": {},
   "outputs": [
    {
     "name": "stdout",
     "output_type": "stream",
     "text": [
      "模型参数总数: 11,897\n",
      "模型结构:\n",
      "NPLM(\n",
      "  (embedding): Embedding(27, 10)\n",
      "  (hidden): Linear(in_features=30, out_features=200, bias=True)\n",
      "  (output): Linear(in_features=200, out_features=27, bias=True)\n",
      ")\n"
     ]
    }
   ],
   "source": [
    "class NPLM(nn.Module):\n",
    "    def __init__(self, vocab_size, embed_dim, context_size, hidden_dim):\n",
    "        super().__init__()\n",
    "        \n",
    "        # 嵌入层：字符索引 → 嵌入向量\n",
    "        self.embedding = nn.Embedding(vocab_size, embed_dim)\n",
    "        \n",
    "        # 隐藏层：拼接的嵌入向量 → 隐藏表示\n",
    "        self.hidden = nn.Linear(context_size * embed_dim, hidden_dim)\n",
    "        \n",
    "        # 输出层：隐藏表示 → 词汇表概率分布\n",
    "        self.output = nn.Linear(hidden_dim, vocab_size)\n",
    "        \n",
    "        # 参数初始化\n",
    "        self._init_weights()\n",
    "    \n",
    "    def _init_weights(self):\n",
    "        \"\"\"权重初始化\"\"\"\n",
    "        for layer in [self.hidden, self.output]:\n",
    "            nn.init.xavier_uniform_(layer.weight)\n",
    "            nn.init.zeros_(layer.bias)\n",
    "    \n",
    "    def forward(self, x):\n",
    "        # x: (batch_size, context_size)\n",
    "        \n",
    "        # 1. 嵌入查找\n",
    "        emb = self.embedding(x)  # (batch_size, context_size, embed_dim)\n",
    "        \n",
    "        # 2. 拼接嵌入向量\n",
    "        emb_flat = emb.view(emb.shape[0], -1)  # (batch_size, context_size * embed_dim)\n",
    "        \n",
    "        # 3. 隐藏层处理\n",
    "        hidden = torch.tanh(self.hidden(emb_flat))  # (batch_size, hidden_dim)\n",
    "        \n",
    "        # 4. 输出logits\n",
    "        logits = self.output(hidden)  # (batch_size, vocab_size)\n",
    "        \n",
    "        return logits\n",
    "\n",
    "# 实例化模型\n",
    "model = NPLM(vocab_size, EMBED_DIM, BLOCK_SIZE, HIDDEN_DIM)\n",
    "\n",
    "print(f\"模型参数总数: {sum(p.numel() for p in model.parameters()):,}\")\n",
    "print(f\"模型结构:\")\n",
    "print(model)"
   ]
  },
  {
   "cell_type": "markdown",
   "id": "3a2b0460",
   "metadata": {},
   "source": [
    "#### 6. 训练配置与损失函数\n",
    "\n",
    "使用交叉熵损失函数和SGD优化器。\n",
    "对比手动实现和PyTorch内置的交叉熵损失函数。"
   ]
  },
  {
   "cell_type": "code",
   "execution_count": 146,
   "id": "345e3983",
   "metadata": {},
   "outputs": [
    {
     "name": "stdout",
     "output_type": "stream",
     "text": [
      "手动实现损失: 3.506389\n",
      "PyTorch损失: 3.506389\n",
      "差异: 0.00000000\n"
     ]
    }
   ],
   "source": [
    "def manual_cross_entropy(logits, targets):\n",
    "    \"\"\"手动实现交叉熵损失\"\"\"\n",
    "    # 数值稳定的softmax\n",
    "    logits_max = logits.max(dim=1, keepdim=True)[0]\n",
    "    logits_shifted = logits - logits_max\n",
    "    \n",
    "    # 计算概率\n",
    "    counts = logits_shifted.exp()\n",
    "    probs = counts / counts.sum(dim=1, keepdim=True)\n",
    "    \n",
    "    # 计算损失\n",
    "    log_probs = probs[torch.arange(len(targets)), targets].log()\n",
    "    loss = -log_probs.mean()\n",
    "    \n",
    "    return loss\n",
    "\n",
    "# 测试两种损失函数的等价性\n",
    "with torch.no_grad():\n",
    "    logits = model(X_train[:100])\n",
    "    \n",
    "    manual_loss = manual_cross_entropy(logits, Y_train[:100])\n",
    "    pytorch_loss = F.cross_entropy(logits, Y_train[:100])\n",
    "    \n",
    "    print(f\"手动实现损失: {manual_loss:.6f}\")\n",
    "    print(f\"PyTorch损失: {pytorch_loss:.6f}\")\n",
    "    print(f\"差异: {abs(manual_loss - pytorch_loss):.8f}\")"
   ]
  },
  {
   "cell_type": "markdown",
   "id": "c575bc92",
   "metadata": {},
   "source": [
    "#### 7. 模型训练\n",
    "\n",
    "使用mini-batch SGD进行训练，包含学习率衰减和验证。"
   ]
  },
  {
   "cell_type": "code",
   "execution_count": 147,
   "id": "7e07ef5a",
   "metadata": {},
   "outputs": [
    {
     "name": "stdout",
     "output_type": "stream",
     "text": [
      "开始训练...\n"
     ]
    },
    {
     "name": "stdout",
     "output_type": "stream",
     "text": [
      "Epoch     0 | Train Loss: 3.3669 | Val Loss: 3.3680\n",
      "Epoch  1000 | Train Loss: 2.4184 | Val Loss: 2.4260\n",
      "Epoch  2000 | Train Loss: 2.3656 | Val Loss: 2.3728\n",
      "Epoch  3000 | Train Loss: 2.3649 | Val Loss: 2.3683\n",
      "Epoch  4000 | Train Loss: 2.3240 | Val Loss: 2.3316\n",
      "Epoch  5000 | Train Loss: 2.3147 | Val Loss: 2.3248\n",
      "学习率衰减到: 0.01\n",
      "Epoch  6000 | Train Loss: 2.2855 | Val Loss: 2.2944\n",
      "Epoch  7000 | Train Loss: 2.2374 | Val Loss: 2.2493\n",
      "Epoch  8000 | Train Loss: 2.2332 | Val Loss: 2.2455\n",
      "Epoch  9000 | Train Loss: 2.2312 | Val Loss: 2.2442\n",
      "\n",
      "=== 最终结果 ===\n",
      "训练损失: 2.2294\n",
      "验证损失: 2.2435\n",
      "测试损失: 2.2437\n"
     ]
    }
   ],
   "source": [
    "def evaluate_model(model, X, Y):\n",
    "    \"\"\"评估模型性能\"\"\"\n",
    "    model.eval()\n",
    "    with torch.no_grad():\n",
    "        logits = model(X)\n",
    "        loss = F.cross_entropy(logits, Y)\n",
    "    model.train()\n",
    "    return loss.item()\n",
    "\n",
    "# 训练超参数\n",
    "BATCH_SIZE = 32\n",
    "LEARNING_RATE = 0.1\n",
    "EPOCHS = 10000\n",
    "EVAL_INTERVAL = 1000\n",
    "\n",
    "# 优化器\n",
    "optimizer = torch.optim.SGD(model.parameters(), lr=LEARNING_RATE)\n",
    "\n",
    "# 训练历史记录\n",
    "train_losses = []\n",
    "val_losses = []\n",
    "epochs_recorded = []\n",
    "\n",
    "print(\"开始训练...\")\n",
    "model.train()\n",
    "\n",
    "for epoch in range(EPOCHS):\n",
    "    # 随机采样mini-batch\n",
    "    batch_indices = torch.randint(0, X_train.shape[0], (BATCH_SIZE,))\n",
    "    X_batch, Y_batch = X_train[batch_indices], Y_train[batch_indices]\n",
    "    \n",
    "    # 前向传播\n",
    "    logits = model(X_batch)\n",
    "    loss = F.cross_entropy(logits, Y_batch)\n",
    "    \n",
    "    # 反向传播\n",
    "    optimizer.zero_grad()\n",
    "    loss.backward()\n",
    "    optimizer.step()\n",
    "    \n",
    "    # 学习率衰减\n",
    "    if epoch == 6000:\n",
    "        for param_group in optimizer.param_groups:\n",
    "            param_group['lr'] = 0.01\n",
    "            print(f\"学习率衰减到: {param_group['lr']}\")\n",
    "    \n",
    "    # 定期评估和记录\n",
    "    if epoch % EVAL_INTERVAL == 0:\n",
    "        train_loss = evaluate_model(model, X_train, Y_train)\n",
    "        val_loss = evaluate_model(model, X_val, Y_val)\n",
    "        \n",
    "        train_losses.append(train_loss)\n",
    "        val_losses.append(val_loss)\n",
    "        epochs_recorded.append(epoch)\n",
    "        \n",
    "        print(f\"Epoch {epoch:5d} | Train Loss: {train_loss:.4f} | Val Loss: {val_loss:.4f}\")\n",
    "\n",
    "# 最终评估\n",
    "final_train_loss = evaluate_model(model, X_train, Y_train)\n",
    "final_val_loss = evaluate_model(model, X_val, Y_val)\n",
    "test_loss = evaluate_model(model, X_test, Y_test)\n",
    "\n",
    "print(f\"\\n=== 最终结果 ===\")\n",
    "print(f\"训练损失: {final_train_loss:.4f}\")\n",
    "print(f\"验证损失: {final_val_loss:.4f}\")\n",
    "print(f\"测试损失: {test_loss:.4f}\")"
   ]
  },
  {
   "cell_type": "markdown",
   "id": "ef62bd6d",
   "metadata": {},
   "source": [
    "#### 8. 训练过程可视化"
   ]
  },
  {
   "cell_type": "code",
   "execution_count": 148,
   "id": "12c05299",
   "metadata": {},
   "outputs": [
    {
     "data": {
      "image/png": "[encoded data removed]",
      "text/plain": [
       "<Figure size 1000x600 with 1 Axes>"
      ]
     },
     "metadata": {},
     "output_type": "display_data"
    }
   ],
   "source": [
    "plt.figure(figsize=(10, 6))\n",
    "plt.plot(epochs_recorded, train_losses, label='训练损失', marker='o')\n",
    "plt.plot(epochs_recorded, val_losses, label='验证损失', marker='s')\n",
    "plt.xlabel('训练轮数')\n",
    "plt.ylabel('交叉熵损失')\n",
    "plt.title('NPLM训练过程')\n",
    "plt.legend()\n",
    "plt.grid(True)\n",
    "plt.show()"
   ]
  },
  {
   "cell_type": "markdown",
   "id": "0ab4cc5c",
   "metadata": {},
   "source": [
    "#### 9. 文本生成\n",
    "\n",
    "使用训练好的模型生成新的名字。"
   ]
  },
  {
   "cell_type": "code",
   "execution_count": 149,
   "id": "a9dc423b",
   "metadata": {},
   "outputs": [
    {
     "name": "stdout",
     "output_type": "stream",
     "text": [
      "=== 生成的名字 ===\n",
      " 1. dandeod\n",
      " 2. luthanna\n",
      " 3. erogelyronna\n",
      " 4. shakran\n",
      " 5. dyren\n",
      " 6. armana\n",
      " 7. kayriel\n",
      " 8. zalairel\n",
      " 9. havielli\n",
      "10. ioluwa\n",
      "11. jaudra\n",
      "12. gah\n",
      "13. oron\n",
      "14. agrie\n",
      "15. lophio\n"
     ]
    }
   ],
   "source": [
    "def generate_names(model, itos, stoi, context_size, num_samples=10, max_length=20):\n",
    "    \"\"\"生成新的名字\"\"\"\n",
    "    model.eval()\n",
    "    generated_names = []\n",
    "    \n",
    "    with torch.no_grad():\n",
    "        for _ in range(num_samples):\n",
    "            context = [0] * context_size  # 以'.'开始\n",
    "            name = []\n",
    "            \n",
    "            for _ in range(max_length):\n",
    "                # 预测下一个字符\n",
    "                x = torch.tensor([context])\n",
    "                logits = model(x)\n",
    "                probs = F.softmax(logits, dim=1)\n",
    "                \n",
    "                # 采样下一个字符\n",
    "                next_char_idx = torch.multinomial(probs, num_samples=1).item()\n",
    "                \n",
    "                # 如果遇到结束符，停止生成\n",
    "                if next_char_idx == 0:\n",
    "                    break\n",
    "                \n",
    "                # 添加到名字并更新上下文\n",
    "                char = itos[next_char_idx]\n",
    "                name.append(char)\n",
    "                context = context[1:] + [next_char_idx]\n",
    "            \n",
    "            generated_names.append(''.join(name))\n",
    "    \n",
    "    model.train()\n",
    "    return generated_names\n",
    "\n",
    "# 生成新名字\n",
    "print(\"=== 生成的名字 ===\")\n",
    "new_names = generate_names(model, itos, stoi, BLOCK_SIZE, num_samples=15)\n",
    "for i, name in enumerate(new_names, 1):\n",
    "    print(f\"{i:2d}. {name}\")"
   ]
  },
  {
   "cell_type": "markdown",
   "id": "491f7d5e",
   "metadata": {},
   "source": [
    "#### 10. 嵌入向量可视化\n",
    "\n",
    "可视化学习到的字符嵌入，观察语义相似性。"
   ]
  },
  {
   "cell_type": "code",
   "execution_count": 150,
   "id": "618f14ae",
   "metadata": {},
   "outputs": [
    {
     "data": {
      "image/png": "[encoded data removed]",
      "text/plain": [
       "<Figure size 1200x800 with 1 Axes>"
      ]
     },
     "metadata": {},
     "output_type": "display_data"
    }
   ],
   "source": [
    "# 获取嵌入矩阵\n",
    "embeddings = model.embedding.weight.detach()\n",
    "\n",
    "# 使用PCA降维到2D\n",
    "from sklearn.decomposition import PCA\n",
    "\n",
    "pca = PCA(n_components=2)\n",
    "embeddings_2d = pca.fit_transform(embeddings)\n",
    "\n",
    "# 绘制嵌入向量\n",
    "plt.figure(figsize=(12, 8))\n",
    "plt.scatter(embeddings_2d[:, 0], embeddings_2d[:, 1], alpha=0.7)\n",
    "\n",
    "# 添加字符标签\n",
    "for i, char in enumerate(chars):\n",
    "    plt.annotate(char, (embeddings_2d[i, 0], embeddings_2d[i, 1]), \n",
    "                xytext=(5, 5), textcoords='offset points', fontsize=12)\n",
    "\n",
    "plt.title('PCA')\n",
    "plt.xlabel(f'第一主成分 (解释方差: {pca.explained_variance_ratio_[0]:.2%})')\n",
    "plt.ylabel(f'第二主成分 (解释方差: {pca.explained_variance_ratio_[1]:.2%})')\n",
    "plt.grid(True, alpha=0.3)\n",
    "plt.show()\n"
   ]
  },
  {
   "cell_type": "markdown",
   "id": "63d1f0ce",
   "metadata": {},
   "source": [
    "#### 11. 总结\n",
    "\n",
    "本文件展示神经概率语言模型的核心思想：\n",
    "1. **词嵌入**: 将离散符号映射到连续向量空间\n",
    "2. **上下文建模**: 使用固定窗口的历史信息预测下一个词\n",
    "3. **神经网络**: 通过非线性变换学习复杂的语言模式\n",
    "\n",
    "这个模型为后续的语言模型发展奠定了重要基础，\n",
    "包括RNN、LSTM、Transformer等现代架构都受到了NPLM的启发。\n",
    "\n",
    "**扩展方向:**\n",
    "- 实现更复杂的网络架构 (如RNN、LSTM)\n",
    "- 尝试词级别而非字符级别的建模\n",
    "- 在更大规模的数据集上训练\n",
    "- 探索不同的采样策略和生成方法"
   ]
  }
 ],
 "metadata": {
  "language_info": {
   "name": "python"
  }
 },
 "nbformat": 4,
 "nbformat_minor": 5
}
